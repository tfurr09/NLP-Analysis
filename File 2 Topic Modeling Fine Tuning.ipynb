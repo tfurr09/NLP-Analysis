{
 "cells": [
  {
   "cell_type": "code",
   "execution_count": 1,
   "id": "ccdcfcc9",
   "metadata": {},
   "outputs": [
    {
     "data": {
      "text/html": [
       "<style type='text/css'>\n",
       ".datatable table.frame { margin-bottom: 0; }\n",
       ".datatable table.frame thead { border-bottom: none; }\n",
       ".datatable table.frame tr.coltypes td {  color: #FFFFFF;  line-height: 6px;  padding: 0 0.5em;}\n",
       ".datatable .bool    { background: #DDDD99; }\n",
       ".datatable .object  { background: #565656; }\n",
       ".datatable .int     { background: #5D9E5D; }\n",
       ".datatable .float   { background: #4040CC; }\n",
       ".datatable .str     { background: #CC4040; }\n",
       ".datatable .time    { background: #40CC40; }\n",
       ".datatable .row_index {  background: var(--jp-border-color3);  border-right: 1px solid var(--jp-border-color0);  color: var(--jp-ui-font-color3);  font-size: 9px;}\n",
       ".datatable .frame tbody td { text-align: left; }\n",
       ".datatable .frame tr.coltypes .row_index {  background: var(--jp-border-color0);}\n",
       ".datatable th:nth-child(2) { padding-left: 12px; }\n",
       ".datatable .hellipsis {  color: var(--jp-cell-editor-border-color);}\n",
       ".datatable .vellipsis {  background: var(--jp-layout-color0);  color: var(--jp-cell-editor-border-color);}\n",
       ".datatable .na {  color: var(--jp-cell-editor-border-color);  font-size: 80%;}\n",
       ".datatable .sp {  opacity: 0.25;}\n",
       ".datatable .footer { font-size: 9px; }\n",
       ".datatable .frame_dimensions {  background: var(--jp-border-color3);  border-top: 1px solid var(--jp-border-color0);  color: var(--jp-ui-font-color3);  display: inline-block;  opacity: 0.6;  padding: 1px 10px 1px 5px;}\n",
       ".datatable .frame thead tr.colnames {  background-image: url('data:image/png;base64,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');  background-repeat: repeat-x;  background-size: 14px;  height: 28px;}\n",
       "</style>\n"
      ],
      "text/plain": [
       "<IPython.core.display.HTML object>"
      ]
     },
     "metadata": {},
     "output_type": "display_data"
    }
   ],
   "source": [
    "import pandas as pd\n",
    "import datatable as dt\n",
    "import numpy as np\n",
    "import re\n",
    "\n",
    "\n",
    "import gensim\n",
    "from gensim import corpora, models\n",
    "from gensim.models.ldamulticore import LdaMulticore\n",
    "from gensim.utils import simple_preprocess\n",
    "from gensim.models import CoherenceModel\n",
    "\n",
    "import spacy\n",
    "import pickle\n",
    "\n",
    "from joblib import dump, load\n",
    "\n",
    "import matplotlib.pyplot as plt\n",
    "\n",
    "import random\n",
    "\n",
    "pd.set_option('display.float_format', lambda x: '%.6f' % x)"
   ]
  },
  {
   "cell_type": "code",
   "execution_count": 2,
   "id": "0bec816a",
   "metadata": {},
   "outputs": [],
   "source": [
    "import pyLDAvis\n",
    "import pyLDAvis.gensim_models as gensimvis\n",
    "pyLDAvis.enable_notebook()"
   ]
  },
  {
   "cell_type": "code",
   "execution_count": 3,
   "id": "7058f72d",
   "metadata": {},
   "outputs": [
    {
     "name": "stdout",
     "output_type": "stream",
     "text": [
      "Available CPUs: 8\n"
     ]
    }
   ],
   "source": [
    "import multiprocessing\n",
    "from pandarallel import pandarallel\n",
    "\n",
    "num_processors = multiprocessing.cpu_count()\n",
    "print(f'Available CPUs: {num_processors}')\n",
    "\n",
    "workers = num_processors-1"
   ]
  },
  {
   "cell_type": "code",
   "execution_count": 4,
   "id": "19f09e24",
   "metadata": {},
   "outputs": [],
   "source": [
    "with open('news_list.pkl', 'rb') as f:\n",
    "    news_list = pickle.load(f)\n",
    "\n",
    "with open('nw_dictionary.pkl', 'rb') as f:\n",
    "    nw_dictionary = pickle.load(f)\n",
    "\n",
    "with open('nw_doc_term_matrix.pkl', 'rb') as f:\n",
    "    nw_doc_term_matrix = pickle.load(f)"
   ]
  },
  {
   "cell_type": "code",
   "execution_count": 5,
   "id": "7abef1c8",
   "metadata": {},
   "outputs": [],
   "source": [
    "# Calculate the number of elements to select (10% of the total)\n",
    "sample_size = int(len(nw_doc_term_matrix) * 0.1)\n",
    "\n",
    "# Randomly select 10% of the elements\n",
    "nw_doc_term_matrix_sample = random.sample(nw_doc_term_matrix, sample_size)"
   ]
  },
  {
   "cell_type": "code",
   "execution_count": 9,
   "id": "ce1eba5e",
   "metadata": {},
   "outputs": [
    {
     "name": "stdout",
     "output_type": "stream",
     "text": [
      "LDA will execute 16 iterations\n",
      "CPU times: total: 0 ns\n",
      "Wall time: 0 ns\n"
     ]
    }
   ],
   "source": [
    "%%time\n",
    "\n",
    "grid = {}\n",
    "grid['Validation_Set'] = {}\n",
    "\n",
    "topics_range = [15, 20, 25, 30]\n",
    "\n",
    "# Alpha parameter\n",
    "alpha = [0.01, 0.51, 0.91]\n",
    "alpha.append('asymmetric')\n",
    "\n",
    "\n",
    "# Beta parameter\n",
    "#beta = [0.01, 0.51, 0.91]\n",
    "#beta.append('symmetric')\n",
    "beta = [\"auto\"]\n",
    "# Validation sets\n",
    "num_of_docs = len(nw_doc_term_matrix)\n",
    "corpus_sets = [nw_doc_term_matrix_sample]\n",
    "corpus_title = ['100% Corpus']\n",
    "model_results = {\n",
    "                 'Topics': [],\n",
    "                 'Alpha': [],\n",
    "                 'Beta': [],\n",
    "                 'Coherence': []\n",
    "                }\n",
    "\n",
    "itr = 0\n",
    "itr_total = len(beta)*len(alpha)*len(topics_range)*len(corpus_title)\n",
    "print(f'LDA will execute {itr_total} iterations')"
   ]
  },
  {
   "cell_type": "code",
   "execution_count": 10,
   "id": "802fea1a",
   "metadata": {},
   "outputs": [],
   "source": [
    "# supporting function\n",
    "def compute_coherence_values(corpus, dictionary, k, a, b):\n",
    "    \n",
    "    lda_model = LdaMulticore(corpus=nw_doc_term_matrix_sample,\n",
    "                       id2word=dictionary,\n",
    "                       num_topics=k,\n",
    "                       random_state=100,                  \n",
    "                       passes=10,\n",
    "                       alpha=a,\n",
    "                       eta=b,\n",
    "                       workers=workers)\n",
    "    \n",
    "    coherence_model_lda = CoherenceModel(model=lda_model, texts=news_list, dictionary=nw_dictionary, coherence='c_v')\n",
    "    \n",
    "    return coherence_model_lda.get_coherence()"
   ]
  },
  {
   "cell_type": "code",
   "execution_count": 13,
   "id": "d4c0c33c",
   "metadata": {},
   "outputs": [
    {
     "name": "stdout",
     "output_type": "stream",
     "text": [
      "Finished 12.5% of LDA runs\n",
      "Finished 25.0% of LDA runs\n",
      "Finished 37.5% of LDA runs\n",
      "Finished 50.0% of LDA runs\n",
      "Finished 62.5% of LDA runs\n",
      "Finished 75.0% of LDA runs\n",
      "Finished 87.5% of LDA runs\n",
      "Finished 100.0% of LDA runs\n"
     ]
    }
   ],
   "source": [
    "# iterate through hyperparameters\n",
    "for i in range(len(corpus_sets)):\n",
    "    # iterate through number of topics\n",
    "    for k in topics_range:\n",
    "        # iterate through alpha values\n",
    "        for a in alpha:\n",
    "            # iterare through beta values\n",
    "            for b in beta:\n",
    "                # get the coherence score for the given parameters\n",
    "                itr += 1\n",
    "                cv = compute_coherence_values(corpus=nw_doc_term_matrix_sample, dictionary=nw_dictionary, \n",
    "                                              k=k, a=a, b=b)\n",
    "                # Save the model results\n",
    "                model_results['Topics'].append(k)\n",
    "                model_results['Alpha'].append(a)\n",
    "                model_results['Beta'].append(b)\n",
    "                model_results['Coherence'].append(cv)\n",
    "                pct_completed = round((itr / itr_total * 100),1)\n",
    "#                 print(f'Completed Percent: {pct_completed}%, Corpus: {corpus_title[i]}, Topics: {k}, Alpha: {a}, Beta: {b}, Coherence: {cv}')\n",
    "                if itr % 2 == 0:\n",
    "                    print(f'Finished {pct_completed}% of LDA runs')\n"
   ]
  },
  {
   "cell_type": "code",
   "execution_count": 14,
   "id": "53b902f1",
   "metadata": {},
   "outputs": [],
   "source": [
    "lda_tuning = pd.DataFrame(model_results)\n",
    "#lda_tuning.to_csv(os.path.join(path_lda, 'lda_tuning_results.csv'), index=False)"
   ]
  },
  {
   "cell_type": "code",
   "execution_count": 15,
   "id": "98796f2b",
   "metadata": {},
   "outputs": [],
   "source": [
    "with open('fine_tune.pkl', 'wb') as f:\n",
    "    pickle.dump(lda_tuning, f)"
   ]
  },
  {
   "cell_type": "code",
   "execution_count": 5,
   "id": "b5f477c2",
   "metadata": {},
   "outputs": [],
   "source": [
    "with open('fine_tune.pkl', 'rb') as f:\n",
    "    fine_tune = pickle.load(f)"
   ]
  },
  {
   "cell_type": "code",
   "execution_count": 8,
   "id": "c76f5eba",
   "metadata": {},
   "outputs": [
    {
     "data": {
      "text/html": [
       "<div>\n",
       "<style scoped>\n",
       "    .dataframe tbody tr th:only-of-type {\n",
       "        vertical-align: middle;\n",
       "    }\n",
       "\n",
       "    .dataframe tbody tr th {\n",
       "        vertical-align: top;\n",
       "    }\n",
       "\n",
       "    .dataframe thead th {\n",
       "        text-align: right;\n",
       "    }\n",
       "</style>\n",
       "<table border=\"1\" class=\"dataframe\">\n",
       "  <thead>\n",
       "    <tr style=\"text-align: right;\">\n",
       "      <th></th>\n",
       "      <th>Topics</th>\n",
       "      <th>Alpha</th>\n",
       "      <th>Beta</th>\n",
       "      <th>Coherence</th>\n",
       "    </tr>\n",
       "  </thead>\n",
       "  <tbody>\n",
       "    <tr>\n",
       "      <th>4</th>\n",
       "      <td>20</td>\n",
       "      <td>0.010000</td>\n",
       "      <td>auto</td>\n",
       "      <td>0.437246</td>\n",
       "    </tr>\n",
       "    <tr>\n",
       "      <th>7</th>\n",
       "      <td>20</td>\n",
       "      <td>asymmetric</td>\n",
       "      <td>auto</td>\n",
       "      <td>0.436720</td>\n",
       "    </tr>\n",
       "    <tr>\n",
       "      <th>13</th>\n",
       "      <td>30</td>\n",
       "      <td>0.510000</td>\n",
       "      <td>auto</td>\n",
       "      <td>0.423792</td>\n",
       "    </tr>\n",
       "    <tr>\n",
       "      <th>5</th>\n",
       "      <td>20</td>\n",
       "      <td>0.510000</td>\n",
       "      <td>auto</td>\n",
       "      <td>0.412215</td>\n",
       "    </tr>\n",
       "    <tr>\n",
       "      <th>6</th>\n",
       "      <td>20</td>\n",
       "      <td>0.910000</td>\n",
       "      <td>auto</td>\n",
       "      <td>0.410979</td>\n",
       "    </tr>\n",
       "    <tr>\n",
       "      <th>11</th>\n",
       "      <td>25</td>\n",
       "      <td>asymmetric</td>\n",
       "      <td>auto</td>\n",
       "      <td>0.410261</td>\n",
       "    </tr>\n",
       "    <tr>\n",
       "      <th>9</th>\n",
       "      <td>25</td>\n",
       "      <td>0.510000</td>\n",
       "      <td>auto</td>\n",
       "      <td>0.408260</td>\n",
       "    </tr>\n",
       "    <tr>\n",
       "      <th>8</th>\n",
       "      <td>25</td>\n",
       "      <td>0.010000</td>\n",
       "      <td>auto</td>\n",
       "      <td>0.406927</td>\n",
       "    </tr>\n",
       "    <tr>\n",
       "      <th>0</th>\n",
       "      <td>15</td>\n",
       "      <td>0.010000</td>\n",
       "      <td>auto</td>\n",
       "      <td>0.405379</td>\n",
       "    </tr>\n",
       "    <tr>\n",
       "      <th>1</th>\n",
       "      <td>15</td>\n",
       "      <td>0.510000</td>\n",
       "      <td>auto</td>\n",
       "      <td>0.403053</td>\n",
       "    </tr>\n",
       "    <tr>\n",
       "      <th>15</th>\n",
       "      <td>30</td>\n",
       "      <td>asymmetric</td>\n",
       "      <td>auto</td>\n",
       "      <td>0.402803</td>\n",
       "    </tr>\n",
       "    <tr>\n",
       "      <th>12</th>\n",
       "      <td>30</td>\n",
       "      <td>0.010000</td>\n",
       "      <td>auto</td>\n",
       "      <td>0.398823</td>\n",
       "    </tr>\n",
       "    <tr>\n",
       "      <th>3</th>\n",
       "      <td>15</td>\n",
       "      <td>asymmetric</td>\n",
       "      <td>auto</td>\n",
       "      <td>0.397374</td>\n",
       "    </tr>\n",
       "    <tr>\n",
       "      <th>14</th>\n",
       "      <td>30</td>\n",
       "      <td>0.910000</td>\n",
       "      <td>auto</td>\n",
       "      <td>0.387737</td>\n",
       "    </tr>\n",
       "    <tr>\n",
       "      <th>2</th>\n",
       "      <td>15</td>\n",
       "      <td>0.910000</td>\n",
       "      <td>auto</td>\n",
       "      <td>0.387637</td>\n",
       "    </tr>\n",
       "    <tr>\n",
       "      <th>10</th>\n",
       "      <td>25</td>\n",
       "      <td>0.910000</td>\n",
       "      <td>auto</td>\n",
       "      <td>0.383776</td>\n",
       "    </tr>\n",
       "  </tbody>\n",
       "</table>\n",
       "</div>"
      ],
      "text/plain": [
       "    Topics       Alpha  Beta  Coherence\n",
       "4       20    0.010000  auto   0.437246\n",
       "7       20  asymmetric  auto   0.436720\n",
       "13      30    0.510000  auto   0.423792\n",
       "5       20    0.510000  auto   0.412215\n",
       "6       20    0.910000  auto   0.410979\n",
       "11      25  asymmetric  auto   0.410261\n",
       "9       25    0.510000  auto   0.408260\n",
       "8       25    0.010000  auto   0.406927\n",
       "0       15    0.010000  auto   0.405379\n",
       "1       15    0.510000  auto   0.403053\n",
       "15      30  asymmetric  auto   0.402803\n",
       "12      30    0.010000  auto   0.398823\n",
       "3       15  asymmetric  auto   0.397374\n",
       "14      30    0.910000  auto   0.387737\n",
       "2       15    0.910000  auto   0.387637\n",
       "10      25    0.910000  auto   0.383776"
      ]
     },
     "execution_count": 8,
     "metadata": {},
     "output_type": "execute_result"
    }
   ],
   "source": [
    "fine_tune.sort_values(by=['Coherence'], ascending=False)"
   ]
  },
  {
   "cell_type": "markdown",
   "id": "2a8eda31",
   "metadata": {},
   "source": [
    "The 10 and 20 topic models in my other notebook each had better coherence scores with default parameters. I will use those"
   ]
  },
  {
   "cell_type": "markdown",
   "id": "ac075e87",
   "metadata": {},
   "source": [
    "### 3 topic model"
   ]
  },
  {
   "cell_type": "code",
   "execution_count": 5,
   "id": "6a397797",
   "metadata": {},
   "outputs": [
    {
     "name": "stdout",
     "output_type": "stream",
     "text": [
      "CPU times: total: 18min 25s\n",
      "Wall time: 20min 34s\n"
     ]
    }
   ],
   "source": [
    "%%time\n",
    "\n",
    "tw_lda_model = LdaMulticore(corpus=nw_doc_term_matrix,\n",
    "                   id2word=nw_dictionary,\n",
    "                   num_topics=3,\n",
    "                   random_state=100,\n",
    "                   passes=10,\n",
    "                   eta='auto',\n",
    "                   workers=workers)"
   ]
  },
  {
   "cell_type": "code",
   "execution_count": 6,
   "id": "15f9fd5c",
   "metadata": {},
   "outputs": [
    {
     "name": "stdout",
     "output_type": "stream",
     "text": [
      "CPU times: total: 4min 1s\n",
      "Wall time: 5min 27s\n"
     ]
    },
    {
     "data": {
      "text/html": [
       "\n",
       "<link rel=\"stylesheet\" type=\"text/css\" href=\"https://cdn.jsdelivr.net/gh/bmabey/pyLDAvis@3.4.0/pyLDAvis/js/ldavis.v1.0.0.css\">\n",
       "\n",
       "\n",
       "<div id=\"ldavis_el2843622158250105767921361886\" style=\"background-color:white;\"></div>\n",
       "<script type=\"text/javascript\">\n",
       "\n",
       "var ldavis_el2843622158250105767921361886_data = {\"mdsDat\": {\"x\": [0.11558814458907091, 0.00936053642987465, -0.12494868101894555], \"y\": [0.0240355411531704, -0.09788381892492717, 0.07384827777175676], \"topics\": [1, 2, 3], \"cluster\": [1, 1, 1], \"Freq\": [37.59613690412045, 20.4970157971112, 41.906847298768355]}, \"tinfo\": {\"Term\": [\"market\", \"ago\", \"hour\", \"analysis\", \"growth\", \"say\", \"gray\", \"solution\", \"global\", \"chatgpt\", \"report\", \"customer\", \"industry\", \"news\", \"day\", \"public\", \"use\", \"datum\", \"forecast\", \"prnewswire\", \"research\", \"provide\", \"platform\", \"get\", \"size\", \"intelligence\", \"go\", \"key\", \"application\", \"cookie\", \"tab\", \"starfille\", \"bikini\", \"chic\", \"mailonline\", \"flaunt\", \"sitesb\", \"agoyahoo\", \"jenner\", \"zdnet\", \"glamorous\", \"agenciesb\", \"racy\", \"etfsb\", \"wunc\", \"sexy\", \"skirt\", \"anime\", \"autor\", \"ipad\", \"busty\", \"stylish\", \"stroll\", \"leggy\", \"geeky\", \"britney\", \"vanderpump\", \"giroux\", \"casinosbest\", \"housewife\", \"bing\", \"iphone\", \"dress\", \"song\", \"artist\", \"actress\", \"boyfriend\", \"girlfriend\", \"stocksbest\", \"lamda\", \"romance\", \"promo\", \"galaxy\", \"album\", \"flyer\", \"kiss\", \"accountsbest\", \"husband\", \"drama\", \"playstation\", \"window\", \"daughter\", \"wedding\", \"singer\", \"pretty\", \"fan\", \"fantasy\", \"chatgpt\", \"screener\", \"cheat\", \"instagram\", \"love\", \"essay\", \"seem\", \"character\", \"film\", \"meta\", \"laptop\", \"go\", \"art\", \"friend\", \"movie\", \"chatbot\", \"prompt\", \"think\", \"game\", \"really\", \"feel\", \"reveal\", \"get\", \"apple\", \"want\", \"tell\", \"lot\", \"play\", \"thing\", \"ask\", \"open\", \"good\", \"write\", \"even\", \"show\", \"say\", \"look\", \"see\", \"make\", \"new\", \"image\", \"take\", \"use\", \"come\", \"know\", \"people\", \"work\", \"way\", \"ai\", \"video\", \"time\", \"human\", \"also\", \"year\", \"day\", \"user\", \"create\", \"first\", \"model\", \"company\", \"news\", \"share\", \"technology\", \"help\", \"overviewview\", \"releasesign\", \"uplog\", \"demoeditorial\", \"inquiriesrequest\", \"bureauspartnershipsmedia\", \"analyticselectronic\", \"picturemagazinesmusicpublishe\", \"commerceelectronic\", \"brandvoice\", \"newswirecision\", \"servicesradio\", \"releasesonline\", \"technologyall\", \"navigationsearchplease\", \"interestpeople\", \"digitaljournalistic\", \"nexstar\", \"irall\", \"techconsumer\", \"moneyauto\", \"lisk\", \"usecoversfcc\", \"culturepeople\", \"transportationbusiness\", \"announcementsreal\", \"equipmentmedical\", \"componentselectronic\", \"metalworke\", \"furnishingshome\", \"appget\", \"cision\", \"applicationspublic\", \"newsfeed\", \"allentown\", \"intermodal\", \"ago\", \"redistribute\", \"hour\", \"camp\", \"cookie\", \"lawmaker\", \"min\", \"dollar\", \"law\", \"trade\", \"public\", \"insurance\", \"government\", \"news\", \"day\", \"federal\", \"police\", \"say\", \"consent\", \"weather\", \"file\", \"policy\", \"use\", \"health\", \"consumer\", \"risk\", \"technology\", \"ai\", \"right\", \"privacy\", \"personal\", \"people\", \"update\", \"intelligence\", \"artificial\", \"new\", \"system\", \"company\", \"year\", \"business\", \"service\", \"datum\", \"information\", \"help\", \"also\", \"make\", \"product\", \"medium\", \"prnewswire\", \"digi\", \"segmentation\", \"filepublicfile\", \"newscastspress\", \"predictionshow\", \"swot\", \"bureauinvestigate\", \"effectdismiss\", \"advertisingclose\", \"catheter\", \"lifestylegray\", \"descriptionat\", \"lifestyleinvestigate\", \"advertisingat\", \"presswire\", \"ddn\", \"newsplugin\", \"statementadvertisingdigital\", \"cagr\", \"tvpowernationlatest\", \"susterencircle\", \"videoscircle\", \"zu\", \"descriptionterm\", \"toc\", \"statementadvertisinga\", \"mlaas\", \"fatbrain\", \"terarecon\", \"gray\", \"market\", \"courtesy\", \"growth\", \"segment\", \"policyeeo\", \"analysis\", \"newswire\", \"oracle\", \"serviceprivacy\", \"applicationsclose\", \"endorse\", \"size\", \"solution\", \"symbol\", \"manufacturer\", \"workflow\", \"enterprise\", \"competitive\", \"forecast\", \"global\", \"customer\", \"insight\", \"necessarily\", \"revenue\", \"key\", \"application\", \"analytic\", \"report\", \"platform\", \"industry\", \"research\", \"strategy\", \"press\", \"provide\", \"group\", \"datum\", \"management\", \"intelligence\", \"player\", \"ai\", \"artificial\", \"release\", \"business\", \"product\", \"company\", \"technology\", \"medium\", \"service\", \"learn\", \"include\", \"help\", \"new\", \"use\"], \"Freq\": [1003143.0, 221861.0, 213099.0, 237551.0, 233907.0, 604873.0, 171504.0, 249602.0, 292653.0, 184689.0, 436230.0, 247076.0, 343223.0, 375743.0, 227103.0, 187037.0, 710618.0, 498118.0, 156676.0, 87957.0, 274067.0, 335422.0, 244577.0, 270473.0, 105361.0, 554743.0, 169258.0, 172023.0, 188402.0, 71573.0, 22306.57932887931, 8182.1854283211605, 5717.654796952547, 4264.017921862303, 3552.2132191665887, 3384.2884792739455, 2842.002162486385, 3637.7890262998017, 2647.6394624243203, 2874.2264522084915, 2297.7321613673284, 2098.2266493020206, 2120.534648723566, 2071.1393864715224, 1976.5992443811747, 2467.521229604062, 2192.104396110224, 2536.607337222184, 1912.5646048983838, 2298.323156192721, 1858.0903191108555, 3366.203306865986, 2438.972312647187, 1633.0956051841756, 2017.1516590204071, 1610.3086594152096, 1543.3163054894178, 1518.5461321082955, 1503.6485562109162, 1514.610886038853, 32572.33665305398, 19343.69969462764, 14989.067133398521, 16859.307252620172, 30523.52779749142, 6188.749225487048, 4974.544723845925, 7378.739381183295, 4677.381807957981, 5388.905171540526, 4406.340497976923, 4463.504403955129, 8460.583877903437, 4413.858402785666, 4365.096610257594, 3750.99635347649, 3502.223460574216, 7206.21273722523, 3883.7074233298163, 3220.8776488539693, 43264.085239624525, 15179.368076134086, 7871.89396277774, 8566.165210027684, 9583.974610545694, 29483.179602045606, 5797.145884564561, 169841.6993555065, 19736.626912675736, 9032.350819100577, 13244.041188311072, 34334.88600576173, 11216.63359204125, 23447.113478651354, 19611.331138019534, 32931.05985528275, 22260.459201011265, 13076.21936250961, 140150.00240762712, 40415.978566445556, 20207.835825524686, 25275.052861601933, 66889.44348836526, 35004.13451383577, 79098.35282504742, 76718.78904169261, 39118.6203925687, 32018.614997442477, 53010.81209130255, 200360.29458413066, 31125.45465699585, 85479.942352798, 58161.125252978745, 38757.25917943462, 67759.51940651308, 70105.49300484094, 64138.88719444368, 111183.81448294637, 168230.18891526913, 93370.93205564236, 79771.05778508328, 107084.33092107937, 344291.84543321445, 101512.93957918274, 134124.92190674713, 217686.4579098142, 322110.53386687185, 111278.13007136143, 132351.60372097165, 348711.3881649003, 98327.19674016212, 90439.42234146826, 127404.84854206069, 157947.43188831685, 105503.69714403283, 488123.54647340596, 100462.27561625402, 133996.4169175316, 98820.4243968509, 148912.3590219525, 135721.71989465944, 116052.83724818219, 112469.48794923989, 109314.17357949822, 105713.5200982186, 114414.63004014964, 144115.0083092354, 120676.1425728974, 113345.88242721077, 118332.63404108494, 104569.23232443449, 31931.39059502538, 21729.17240387645, 21208.874332904084, 12050.29205797982, 11451.831018650968, 11381.552340333774, 8606.28689447714, 8609.576331301683, 8605.28226833351, 10301.514164312588, 8202.250561768136, 7863.877470281574, 7245.954704402989, 7219.3556834594265, 6736.700217053111, 6574.026477344053, 6599.677311814977, 6582.06348649308, 6255.80168440492, 6794.616615435029, 4918.1320142217855, 4469.950230854446, 4523.285719940335, 4436.445982164246, 4395.062423405727, 4370.2684759396625, 4321.926901742226, 4308.516171918787, 4344.21857979503, 4304.172973237047, 24477.80297299854, 8533.404023340838, 5999.626001756457, 6012.623061991343, 4443.6068484206635, 4425.347950859154, 205346.89050202438, 9198.579409764809, 141744.4011066276, 12346.634858477926, 51208.29515016173, 11473.786714662347, 29101.864049478612, 24954.6371853393, 41103.5675267009, 40692.16083695668, 89905.60710389838, 34300.9537418846, 45475.37912964505, 142662.92554417762, 91119.47701976029, 17092.350649783522, 24023.552597007478, 172101.7941891203, 14701.126621194333, 50832.49990082404, 34949.09364361529, 54605.57557004181, 168561.0799813737, 58830.051743863696, 42078.54757114837, 49695.138274964396, 115879.66957859586, 208537.0678731918, 60054.37561478528, 45759.40480194467, 36837.65268244176, 60958.27088961459, 45703.671622835886, 91374.88711487167, 85504.81605388713, 91536.48783683579, 64561.007647806684, 88086.63485942237, 66328.69283125568, 75017.24685416449, 67017.24088143096, 74321.24611143398, 57797.62806627836, 60350.75692705889, 59812.67039978262, 53451.88495137046, 50985.98924607264, 50792.17674388401, 87956.07012038979, 30558.698683735227, 23161.211843442867, 19989.55979538027, 14810.918254662402, 13145.927318518226, 9232.627899214385, 16114.502917734004, 11379.764699883463, 12264.345097827943, 7094.960777257855, 9958.091765340261, 7327.262836214868, 6155.623766019537, 6434.915821982741, 16908.39609002927, 4747.282097329277, 4541.555686064443, 5033.007642994835, 20924.631344570735, 4807.901345204167, 4451.240432598903, 4809.3318769142015, 3819.2525653277835, 4021.190358448108, 3527.084705802233, 3660.93631672917, 3270.4473170220654, 2975.0216463732363, 2893.264128867013, 170659.71923923586, 973015.8940524973, 51088.29421167849, 227890.46885860665, 61422.615477367115, 20870.16864360451, 230627.44561635132, 19628.21325506712, 14257.966670436994, 33022.63156790859, 7321.650671954577, 51832.515521825764, 101805.64798734295, 234269.40626085282, 36206.58041903594, 29894.676748489015, 24364.541857637287, 97342.25329576427, 47401.24619431471, 144367.95420133855, 264266.4595287412, 222629.18568766495, 108832.9356208632, 54358.16863723518, 87125.06797130326, 153025.28367648993, 164704.92787089664, 76173.40863698258, 359027.2693117954, 206716.9867655934, 279918.1584567202, 225829.7321005355, 84478.09762150663, 152536.77830943058, 263200.13202853326, 204207.5592397435, 362013.2339318167, 101416.93977052612, 374922.50413019094, 109082.99867280941, 870036.0955039379, 333628.0094441864, 191315.40519206927, 282267.5890713314, 205523.8954893891, 337718.29159940843, 326068.1228066513, 220957.58070597745, 225498.26958824892, 194117.00193500746, 185809.80417458765, 171868.39533539859, 194818.98132374126, 193345.53705631263], \"Total\": [1003143.0, 221861.0, 213099.0, 237551.0, 233907.0, 604873.0, 171504.0, 249602.0, 292653.0, 184689.0, 436230.0, 247076.0, 343223.0, 375743.0, 227103.0, 187037.0, 710618.0, 498118.0, 156676.0, 87957.0, 274067.0, 335422.0, 244577.0, 270473.0, 105361.0, 554743.0, 169258.0, 172023.0, 188402.0, 71573.0, 22307.657659229055, 8182.8882558853975, 5718.348992732322, 4264.766990493047, 3552.8934628877487, 3385.006874417103, 2842.675444962857, 3638.7479553119892, 2648.349244274922, 2875.0473380188005, 2298.4169769109785, 2098.8989581965407, 2121.214244085443, 2071.8325848793265, 1977.272799941569, 2468.3802879589057, 2192.8813422110334, 2537.5127273694966, 1913.2473254387403, 2299.144358314258, 1858.7637645845284, 3367.5443469831316, 2439.9513703018642, 1633.7697674956853, 2017.9882332467364, 1610.9938900972238, 1543.999397100982, 1519.2224181969416, 1504.3205099536633, 1515.2974904797156, 32647.166854266285, 19394.134181218644, 15007.826635766154, 16936.463329428767, 31057.605897624402, 6199.789078001509, 4981.898228185634, 7419.546679172148, 4682.758082996804, 5403.905089734493, 4410.180419774095, 4468.176953059411, 8533.612797723894, 4424.916421303791, 4376.031532679729, 3755.3463141022353, 3506.1848416007497, 7269.564944777602, 3894.1925322835823, 3225.3978655863334, 45020.52946701794, 15502.07264994295, 7962.022323829351, 8684.313859875005, 9755.150365186508, 30721.048720192503, 5844.192962903679, 184689.5359016189, 20453.43178475858, 9210.063085951013, 13685.405158840353, 36706.492343427475, 11633.120436949874, 25077.024613473186, 20969.88095069928, 36241.04523506896, 24023.323154718273, 13744.898961891065, 169258.28715207055, 45512.94296773469, 21824.522914781126, 27697.23832897467, 78760.53233048525, 39457.3325497657, 95232.97672519766, 92430.56621598064, 44616.12947974137, 35956.67194705187, 62234.96640529868, 270473.51053184614, 35114.258717944715, 107287.98841358806, 70161.98740917948, 44740.68857876193, 83617.72814128504, 86885.28581801185, 79286.54167406654, 148387.2713135815, 247050.73646241653, 126485.47405417575, 105380.74621300322, 150566.73138757522, 604873.2510883106, 144290.44672063296, 203849.40342425488, 373801.75327383546, 608466.0030274489, 163989.22031653562, 207203.7169324879, 710618.0052025866, 142884.98808263158, 131718.54349403697, 213510.97769050192, 286297.7983152117, 168254.9631631787, 1566696.7098505357, 157750.52916591638, 250637.08458382907, 157960.8732958481, 334043.6418971332, 293123.59888501477, 227103.52058761776, 217333.16077919293, 208599.4736852785, 203986.32885614652, 262904.1062840858, 569919.9347680662, 375743.5123078262, 306991.7140227868, 560280.4264263321, 336788.384586892, 31932.259293266743, 21729.970822497697, 21210.08172782332, 12051.024404633583, 11452.568153533904, 11382.288380492671, 8607.0155132091, 8610.306688674158, 8606.013839470945, 10302.393258487693, 8202.972380663612, 7864.60817809522, 7246.673469974952, 7220.074243203161, 6737.436632159553, 6574.751143174582, 6600.417506650597, 6582.8029484849185, 6256.5134316712865, 6795.407533102311, 4918.844728508688, 4470.640797991744, 4524.008315633459, 4437.160523223112, 4395.773857983154, 4370.9780352499165, 4322.6356591182885, 4309.223453969972, 4344.931848803762, 4304.880361941768, 24591.74523609044, 8550.304330412864, 6000.882495629771, 6015.062920465105, 4444.376823850598, 4426.160445286138, 221861.35147985784, 9388.94284242413, 213099.3698870855, 14085.423526209726, 71573.29648953477, 13407.86245563928, 40669.12885317629, 35537.797747022494, 67548.98262306297, 67064.73560704847, 187037.69803205182, 55535.07250329968, 81648.37252066741, 375743.5123078262, 227103.52058761776, 23160.969062815024, 37298.79902934206, 604873.2510883106, 19034.319406339913, 116474.29130978453, 67194.75823577432, 130816.04240556029, 710618.0052025866, 149070.8601530989, 92740.29452442097, 136000.02843982234, 560280.4264263321, 1566696.7098505357, 190506.91623122917, 123073.06908115558, 85938.51047377239, 213510.97769050192, 127012.80923403725, 554743.6465436276, 503458.2105904976, 608466.0030274489, 271481.6295451685, 569919.9347680662, 293123.59888501477, 420533.1861753794, 347594.1333769072, 498118.20566417277, 251586.3066916089, 336788.384586892, 334043.6418971332, 373801.75327383546, 289826.5740427055, 332651.3059170147, 87957.59092609501, 30559.454006764336, 23162.002884595327, 19990.626111124213, 14811.910254826997, 13146.902618381333, 9233.342185733993, 16115.88200650459, 11380.826598497573, 12265.56866915745, 7095.677280173848, 9959.148116619772, 7328.091143317968, 6156.4561572595185, 6435.79367774365, 16910.752279498523, 4747.987218640755, 4542.267562955021, 5033.815517648868, 20928.00803772525, 4808.703441103001, 4452.055307648066, 4810.2168710772185, 3819.9707936985283, 4021.9936948527507, 3527.7941294754796, 3661.7047010299625, 3271.134870660336, 2975.7247449029205, 2893.9569919386763, 171504.90257442254, 1003143.8528982936, 51540.06536426899, 233907.08652840686, 62252.79241192477, 20957.465221591377, 237551.13239358, 19774.026237867445, 14325.066195934582, 33466.696734666395, 7347.054518977619, 53093.389323297466, 105361.47301041345, 249602.48989380346, 37187.6053707796, 30594.08847362176, 24848.59358508355, 102836.18029450688, 49542.480678062224, 156676.1587227819, 292653.18163082097, 247076.01319521602, 118483.99534664136, 57643.54747276392, 95059.16826064695, 172023.42455757322, 188402.61033276102, 83448.13247113276, 436230.7397437958, 244577.1339193294, 343223.376499776, 274067.72766762564, 94872.63057721799, 181859.63349285306, 335422.42524674896, 257192.50237658282, 498118.20566417277, 119324.46045170247, 554743.6465436276, 130124.20095108295, 1566696.7098505357, 503458.2105904976, 258728.4084562207, 420533.1861753794, 289826.5740427055, 569919.9347680662, 560280.4264263321, 332651.3059170147, 347594.1333769072, 291963.49024448334, 305200.0058143623, 336788.384586892, 608466.0030274489, 710618.0052025866], \"Category\": [\"Default\", \"Default\", \"Default\", \"Default\", \"Default\", \"Default\", \"Default\", \"Default\", \"Default\", \"Default\", \"Default\", \"Default\", \"Default\", \"Default\", \"Default\", \"Default\", \"Default\", \"Default\", \"Default\", \"Default\", \"Default\", \"Default\", \"Default\", \"Default\", \"Default\", \"Default\", \"Default\", \"Default\", \"Default\", \"Default\", \"Topic1\", \"Topic1\", \"Topic1\", \"Topic1\", \"Topic1\", \"Topic1\", \"Topic1\", \"Topic1\", \"Topic1\", \"Topic1\", \"Topic1\", \"Topic1\", \"Topic1\", \"Topic1\", \"Topic1\", \"Topic1\", \"Topic1\", \"Topic1\", \"Topic1\", \"Topic1\", \"Topic1\", \"Topic1\", \"Topic1\", \"Topic1\", \"Topic1\", \"Topic1\", \"Topic1\", \"Topic1\", \"Topic1\", \"Topic1\", \"Topic1\", \"Topic1\", \"Topic1\", \"Topic1\", \"Topic1\", \"Topic1\", \"Topic1\", \"Topic1\", \"Topic1\", \"Topic1\", \"Topic1\", \"Topic1\", \"Topic1\", \"Topic1\", \"Topic1\", \"Topic1\", \"Topic1\", \"Topic1\", \"Topic1\", \"Topic1\", \"Topic1\", \"Topic1\", \"Topic1\", \"Topic1\", \"Topic1\", \"Topic1\", \"Topic1\", \"Topic1\", \"Topic1\", \"Topic1\", \"Topic1\", \"Topic1\", \"Topic1\", \"Topic1\", \"Topic1\", \"Topic1\", \"Topic1\", \"Topic1\", \"Topic1\", \"Topic1\", \"Topic1\", \"Topic1\", \"Topic1\", \"Topic1\", \"Topic1\", \"Topic1\", \"Topic1\", \"Topic1\", \"Topic1\", \"Topic1\", \"Topic1\", \"Topic1\", \"Topic1\", \"Topic1\", \"Topic1\", \"Topic1\", \"Topic1\", \"Topic1\", \"Topic1\", \"Topic1\", \"Topic1\", \"Topic1\", \"Topic1\", \"Topic1\", \"Topic1\", \"Topic1\", \"Topic1\", \"Topic1\", \"Topic1\", \"Topic1\", \"Topic1\", \"Topic1\", \"Topic1\", \"Topic1\", \"Topic1\", \"Topic1\", \"Topic1\", \"Topic1\", \"Topic1\", \"Topic1\", \"Topic1\", \"Topic1\", \"Topic1\", \"Topic1\", \"Topic1\", \"Topic1\", \"Topic1\", \"Topic1\", \"Topic1\", \"Topic1\", \"Topic1\", \"Topic2\", \"Topic2\", \"Topic2\", \"Topic2\", \"Topic2\", \"Topic2\", \"Topic2\", \"Topic2\", \"Topic2\", \"Topic2\", \"Topic2\", \"Topic2\", \"Topic2\", \"Topic2\", \"Topic2\", \"Topic2\", \"Topic2\", \"Topic2\", \"Topic2\", \"Topic2\", \"Topic2\", \"Topic2\", \"Topic2\", \"Topic2\", \"Topic2\", \"Topic2\", \"Topic2\", \"Topic2\", \"Topic2\", \"Topic2\", \"Topic2\", \"Topic2\", \"Topic2\", \"Topic2\", \"Topic2\", \"Topic2\", \"Topic2\", \"Topic2\", \"Topic2\", \"Topic2\", \"Topic2\", \"Topic2\", \"Topic2\", \"Topic2\", \"Topic2\", \"Topic2\", \"Topic2\", \"Topic2\", \"Topic2\", \"Topic2\", \"Topic2\", \"Topic2\", \"Topic2\", \"Topic2\", \"Topic2\", \"Topic2\", \"Topic2\", \"Topic2\", \"Topic2\", \"Topic2\", \"Topic2\", \"Topic2\", \"Topic2\", \"Topic2\", \"Topic2\", \"Topic2\", \"Topic2\", \"Topic2\", \"Topic2\", \"Topic2\", \"Topic2\", \"Topic2\", \"Topic2\", \"Topic2\", \"Topic2\", \"Topic2\", \"Topic2\", \"Topic2\", \"Topic2\", \"Topic2\", \"Topic2\", \"Topic2\", \"Topic2\", \"Topic2\", \"Topic3\", \"Topic3\", \"Topic3\", \"Topic3\", \"Topic3\", \"Topic3\", \"Topic3\", \"Topic3\", \"Topic3\", \"Topic3\", \"Topic3\", \"Topic3\", \"Topic3\", \"Topic3\", \"Topic3\", \"Topic3\", \"Topic3\", \"Topic3\", \"Topic3\", \"Topic3\", \"Topic3\", \"Topic3\", \"Topic3\", \"Topic3\", \"Topic3\", \"Topic3\", \"Topic3\", \"Topic3\", \"Topic3\", \"Topic3\", \"Topic3\", \"Topic3\", \"Topic3\", \"Topic3\", \"Topic3\", \"Topic3\", \"Topic3\", \"Topic3\", \"Topic3\", \"Topic3\", \"Topic3\", \"Topic3\", \"Topic3\", \"Topic3\", \"Topic3\", \"Topic3\", \"Topic3\", \"Topic3\", \"Topic3\", \"Topic3\", \"Topic3\", \"Topic3\", \"Topic3\", \"Topic3\", \"Topic3\", \"Topic3\", \"Topic3\", \"Topic3\", \"Topic3\", \"Topic3\", \"Topic3\", \"Topic3\", \"Topic3\", \"Topic3\", \"Topic3\", \"Topic3\", \"Topic3\", \"Topic3\", \"Topic3\", \"Topic3\", \"Topic3\", \"Topic3\", \"Topic3\", \"Topic3\", \"Topic3\", \"Topic3\", \"Topic3\", \"Topic3\", \"Topic3\", \"Topic3\", \"Topic3\", \"Topic3\", \"Topic3\", \"Topic3\"], \"logprob\": [30.0, 29.0, 28.0, 27.0, 26.0, 25.0, 24.0, 23.0, 22.0, 21.0, 20.0, 19.0, 18.0, 17.0, 16.0, 15.0, 14.0, 13.0, 12.0, 11.0, 10.0, 9.0, 8.0, 7.0, 6.0, 5.0, 4.0, 3.0, 2.0, 1.0, -7.5369, -8.5398, -8.8982, -9.1916, -9.3742, -9.4226, -9.5973, -9.3504, -9.6681, -9.586, -9.8099, -9.9007, -9.8901, -9.9137, -9.9604, -9.7386, -9.8569, -9.711, -9.9933, -9.8096, -10.0222, -9.428, -9.7502, -10.1513, -9.9401, -10.1654, -10.2079, -10.224, -10.2339, -10.2266, -7.1583, -7.6794, -7.9345, -7.8169, -7.2233, -8.8191, -9.0374, -8.6432, -9.099, -8.9574, -9.1587, -9.1458, -8.5064, -9.157, -9.1681, -9.3198, -9.3884, -8.6668, -9.285, -9.4721, -6.8745, -7.9218, -8.5785, -8.494, -8.3817, -7.258, -8.8844, -5.5069, -7.6593, -8.441, -8.0582, -7.1056, -8.2244, -7.487, -7.6657, -7.1474, -7.539, -8.071, -5.6991, -6.9426, -7.6357, -7.412, -6.4387, -7.0863, -6.2711, -6.3016, -6.9752, -7.1755, -6.6713, -5.3417, -7.2038, -6.1935, -6.5786, -6.9845, -6.4258, -6.3918, -6.4807, -5.9306, -5.5165, -6.1052, -6.2626, -5.9682, -4.8003, -6.0216, -5.743, -5.2587, -4.8669, -5.9298, -5.7563, -4.7875, -6.0535, -6.1371, -5.7944, -5.5795, -5.983, -4.4512, -6.032, -5.744, -6.0485, -5.6384, -5.7312, -5.8877, -5.9191, -5.9476, -5.9811, -5.902, -5.6712, -5.8487, -5.9113, -5.8683, -5.9919, -6.5716, -6.9565, -6.9807, -7.5461, -7.597, -7.6032, -7.8827, -7.8823, -7.8828, -7.7029, -7.9308, -7.9729, -8.0547, -8.0584, -8.1276, -8.152, -8.1481, -8.1508, -8.2017, -8.119, -8.4422, -8.5378, -8.5259, -8.5453, -8.5547, -8.5603, -8.5715, -8.5746, -8.5663, -8.5756, -6.8374, -7.8912, -8.2435, -8.2413, -8.5437, -8.5478, -4.7105, -7.8161, -5.0811, -7.5218, -6.0993, -7.5951, -6.6644, -6.8181, -6.3191, -6.3291, -5.5364, -6.5, -6.218, -5.0747, -5.523, -7.1965, -6.8561, -4.8871, -7.3472, -6.1066, -6.4813, -6.035, -4.9079, -5.9605, -6.2956, -6.1293, -5.2826, -4.695, -5.9399, -6.2118, -6.4286, -5.925, -6.213, -5.5202, -5.5866, -5.5184, -5.8676, -5.5568, -5.8405, -5.7174, -5.8302, -5.7268, -5.9782, -5.935, -5.9439, -6.0564, -6.1036, -6.1074, -6.2735, -7.3307, -7.6079, -7.7551, -8.055, -8.1742, -8.5276, -7.9706, -8.3185, -8.2436, -8.7909, -8.4519, -8.7587, -8.933, -8.8886, -7.9225, -9.1928, -9.2371, -9.1343, -7.7094, -9.1801, -9.2571, -9.1798, -9.4103, -9.3588, -9.4899, -9.4526, -9.5654, -9.6601, -9.6879, -5.6107, -3.8699, -6.8168, -5.3215, -6.6326, -7.712, -5.3095, -7.7734, -8.093, -7.2531, -8.7595, -6.8023, -6.1273, -5.2939, -7.1611, -7.3527, -7.5572, -6.1721, -6.8917, -5.778, -5.1734, -5.3448, -6.0605, -6.7547, -6.283, -5.7197, -5.6462, -6.4173, -4.8669, -5.419, -5.1158, -5.3306, -6.3138, -5.7229, -5.1774, -5.4312, -4.8587, -6.1311, -4.8236, -6.0582, -3.9818, -4.9403, -5.4964, -5.1075, -5.4248, -4.9281, -4.9632, -5.3524, -5.332, -5.4819, -5.5256, -5.6036, -5.4783, -5.4859], \"loglift\": [30.0, 29.0, 28.0, 27.0, 26.0, 25.0, 24.0, 23.0, 22.0, 21.0, 20.0, 19.0, 18.0, 17.0, 16.0, 15.0, 14.0, 13.0, 12.0, 11.0, 10.0, 9.0, 8.0, 7.0, 6.0, 5.0, 4.0, 3.0, 2.0, 1.0, 0.9782, 0.9782, 0.9781, 0.9781, 0.9781, 0.9781, 0.978, 0.978, 0.978, 0.978, 0.978, 0.9779, 0.9779, 0.9779, 0.9779, 0.9779, 0.9779, 0.9779, 0.9779, 0.9779, 0.9779, 0.9779, 0.9779, 0.9779, 0.9779, 0.9778, 0.9778, 0.9778, 0.9778, 0.9778, 0.976, 0.9757, 0.977, 0.9737, 0.9609, 0.9765, 0.9768, 0.9728, 0.9771, 0.9755, 0.9774, 0.9772, 0.9697, 0.9758, 0.9758, 0.9771, 0.9771, 0.9695, 0.9756, 0.9769, 0.9385, 0.9572, 0.9669, 0.9646, 0.9606, 0.9371, 0.9702, 0.8945, 0.9426, 0.9588, 0.9455, 0.9115, 0.9418, 0.9111, 0.9113, 0.8825, 0.9021, 0.9284, 0.7896, 0.8595, 0.9013, 0.8868, 0.8149, 0.8585, 0.7926, 0.792, 0.8468, 0.8623, 0.8178, 0.6782, 0.8577, 0.751, 0.7907, 0.8347, 0.768, 0.7637, 0.7663, 0.6896, 0.594, 0.6747, 0.6998, 0.6375, 0.4147, 0.6266, 0.5597, 0.4376, 0.3422, 0.5905, 0.53, 0.2664, 0.6045, 0.6023, 0.462, 0.3835, 0.5115, -0.1879, 0.527, 0.3521, 0.5092, 0.1704, 0.2083, 0.3069, 0.3195, 0.3321, 0.3209, 0.1463, -0.3966, -0.1575, -0.0181, -0.5767, -0.1913, 1.5849, 1.5849, 1.5848, 1.5848, 1.5848, 1.5848, 1.5848, 1.5848, 1.5848, 1.5848, 1.5848, 1.5848, 1.5848, 1.5848, 1.5848, 1.5848, 1.5848, 1.5848, 1.5848, 1.5848, 1.5847, 1.5847, 1.5847, 1.5847, 1.5847, 1.5847, 1.5847, 1.5847, 1.5847, 1.5847, 1.5802, 1.5829, 1.5847, 1.5845, 1.5847, 1.5847, 1.5075, 1.5644, 1.1772, 1.4531, 1.2501, 1.4291, 1.2502, 1.2314, 1.0881, 1.0853, 0.8523, 1.103, 0.9996, 0.6165, 0.6717, 1.2811, 1.145, 0.328, 1.3266, 0.7558, 0.9312, 0.7112, 0.1461, 0.6551, 0.7946, 0.5781, 0.009, -0.4317, 0.4305, 0.5955, 0.7378, 0.3314, 0.5628, -0.2186, -0.188, -0.3093, 0.1486, -0.2823, 0.0989, -0.1389, -0.0612, -0.3175, 0.1141, -0.1344, -0.1352, -0.3601, -0.1528, -0.2945, 0.8697, 0.8697, 0.8697, 0.8697, 0.8697, 0.8696, 0.8696, 0.8696, 0.8696, 0.8696, 0.8696, 0.8696, 0.8696, 0.8696, 0.8696, 0.8696, 0.8696, 0.8696, 0.8696, 0.8696, 0.8696, 0.8695, 0.8695, 0.8695, 0.8695, 0.8695, 0.8695, 0.8695, 0.8695, 0.8695, 0.8648, 0.8392, 0.8609, 0.8437, 0.8563, 0.8655, 0.8401, 0.8623, 0.865, 0.8564, 0.8663, 0.8457, 0.8354, 0.8063, 0.843, 0.8466, 0.85, 0.8148, 0.8255, 0.7879, 0.7677, 0.7655, 0.7848, 0.811, 0.7826, 0.7527, 0.7353, 0.7785, 0.6749, 0.7015, 0.6658, 0.6761, 0.7537, 0.6939, 0.6272, 0.639, 0.5506, 0.7071, 0.4779, 0.6933, 0.2815, 0.4582, 0.5679, 0.4711, 0.526, 0.3464, 0.3284, 0.4606, 0.437, 0.4616, 0.3735, 0.197, -0.2691, -0.4319]}, \"token.table\": {\"Topic\": [1, 2, 1, 2, 3, 1, 2, 3, 1, 1, 2, 3, 1, 1, 2, 3, 1, 2, 2, 1, 2, 3, 1, 2, 3, 1, 2, 3, 2, 1, 2, 1, 2, 3, 1, 2, 3, 1, 2, 3, 1, 2, 3, 1, 2, 1, 2, 3, 1, 2, 3, 1, 2, 3, 1, 2, 3, 1, 1, 1, 2, 3, 1, 2, 1, 2, 1, 2, 3, 2, 1, 2, 3, 1, 2, 3, 1, 2, 3, 1, 3, 1, 2, 3, 1, 2, 3, 1, 2, 3, 1, 2, 1, 2, 3, 1, 2, 3, 2, 1, 2, 3, 1, 2, 3, 2, 1, 2, 3, 1, 2, 3, 1, 2, 3, 1, 2, 3, 1, 2, 3, 2, 1, 2, 3, 1, 2, 3, 1, 2, 1, 2, 3, 3, 2, 3, 3, 3, 2, 1, 2, 3, 1, 2, 1, 2, 3, 2, 3, 1, 2, 3, 1, 2, 3, 2, 1, 2, 3, 1, 1, 2, 3, 1, 2, 3, 1, 2, 3, 3, 1, 2, 3, 1, 2, 3, 1, 2, 3, 2, 3, 1, 2, 3, 1, 2, 3, 1, 1, 2, 3, 1, 2, 3, 1, 2, 3, 2, 1, 2, 3, 1, 2, 3, 1, 1, 2, 3, 1, 2, 3, 1, 1, 1, 2, 3, 1, 2, 3, 1, 2, 3, 1, 2, 3, 1, 2, 3, 1, 2, 3, 1, 2, 3, 1, 2, 3, 1, 2, 3, 1, 2, 3, 1, 1, 2, 3, 1, 2, 1, 2, 3, 1, 2, 3, 1, 2, 3, 1, 2, 3, 2, 1, 2, 3, 1, 2, 3, 1, 2, 3, 1, 2, 3, 2, 2, 1, 1, 2, 3, 2, 1, 1, 2, 3, 1, 2, 3, 1, 2, 3, 1, 2, 1, 2, 3, 1, 2, 3, 1, 2, 1, 2, 3, 1, 2, 3, 3, 2, 1, 2, 3, 1, 2, 3, 1, 2, 3, 1, 1, 2, 3, 1, 2, 3, 1, 2, 3, 1, 2, 3, 1, 2, 3, 1, 2, 3, 2, 1, 2, 3, 3, 1, 2, 3, 2, 1, 2, 3, 2, 1, 2, 3, 1, 2, 3, 1, 2, 3, 2, 3, 1, 2, 3, 1, 2, 3, 2, 2, 1, 2, 3, 1, 2, 3, 2, 1, 2, 3, 1, 2, 3, 2, 1, 2, 3, 1, 2, 3, 1, 2, 3, 1, 3, 1, 2, 3, 1, 2, 3, 1, 2, 3, 2, 3, 1, 2, 3, 1, 3, 1, 2, 3, 1, 2, 3, 1, 2, 3, 1, 2, 3, 1, 2, 3, 1, 2, 3, 1, 2, 3, 1, 2, 3, 1, 1, 2, 3, 1, 2, 1, 2, 3, 2, 2, 1, 2, 3, 1, 2, 3, 1, 2, 3, 1, 2, 3, 1, 2, 3, 1, 2, 3, 1, 2, 1, 2, 3, 1, 2, 3, 1, 2, 3, 1, 2, 3, 1, 2, 3, 3, 1, 2, 3, 1, 2, 3, 2, 1, 2, 1, 2, 3, 1, 2, 3, 1, 2, 3, 1, 1, 2, 3, 1, 1, 2, 3, 1, 2, 3, 1, 3, 3, 1, 2, 1, 2, 3, 1, 2, 1, 2, 3, 3, 1, 2, 3, 1, 2, 3, 1, 2, 1, 2, 3, 2, 1, 2, 3, 2, 1, 2, 3, 3, 1, 2, 3, 1, 2, 3, 1, 2, 3, 3, 1, 2, 3, 2, 3, 1, 2, 3, 1, 2, 1, 2, 3, 2, 1, 2, 3, 1, 1, 2, 3, 3, 1, 2, 3, 1, 2, 3, 1, 2, 3, 1, 2, 3, 1, 2, 3, 1, 2, 3, 1, 2, 3, 1, 2, 3, 1, 1, 2, 3, 1, 3], \"Freq\": [0.9988064401080352, 0.001140841165171942, 0.9982597669266216, 0.001774253907932273, 0.9998766775655977, 8.152903684886322e-05, 8.152903684886322e-05, 0.9998721079144586, 0.9995717001082733, 0.06636577259530825, 0.9255645412339556, 0.008072609258231259, 0.9997944470677346, 0.3115625359592205, 0.13310617089372365, 0.5553314783452901, 0.9975329655377819, 0.002485922659926507, 0.9999152133436175, 0.4457860630254312, 0.17905744189682576, 0.3751575671019395, 0.01811399489719415, 0.011033414042655326, 0.9708520337334872, 0.006327283599577872, 0.08085261826960588, 0.9128185106641008, 0.9998820133172129, 0.9997979409663776, 0.9997762433848834, 4.0664051713272325e-05, 0.99537465783748, 0.004595037843599773, 0.8863920565719916, 0.026171704417338484, 0.08742887112212093, 0.06682497645740286, 0.05895884340657911, 0.8742182484048084, 0.0012249807016883817, 0.0023138524365224986, 0.9965898553069257, 0.00016664215650419157, 0.9998529390251494, 0.8880111318807038, 0.0763738790186393, 0.03561624220057949, 0.16749155784170575, 0.1698353472072938, 0.6626726766630608, 0.9828188335126882, 0.015519547823126579, 0.001674308063905772, 0.8089519185193434, 0.11458438983688918, 0.07645685978989787, 0.9998707300224849, 0.9999389696689087, 0.9976975994700605, 0.002205398107633684, 9.189158781807017e-05, 0.9986153414080988, 0.0014050869125340085, 9.706482512460332e-05, 0.9999618284336633, 0.9993830578108749, 6.205059081447645e-05, 0.9999452709752881, 0.9999746641024168, 0.15039954533724484, 0.17838544606254897, 0.6712145658875132, 0.999589100778119, 0.00014334856879795439, 0.9998562673657317, 0.09534679574959082, 0.8765799606256126, 0.02811417060077287, 0.9997869403816922, 0.9999045503132251, 0.9351984422851973, 0.02951852714163159, 0.03524102028702059, 0.8492705422473354, 0.07206655201596489, 0.07865614688846062, 0.9196081368165442, 0.06720467372126415, 0.01318970231912661, 0.9806664640307807, 0.019218109403614722, 0.9998201565302965, 0.997976173742575, 0.0019882333239920045, 0.68815486720786, 0.15058964758114785, 0.16125556861631396, 0.9998821940691874, 0.2528688526374303, 0.15456030685406322, 0.5925709549665731, 0.027915437036490638, 0.015300000920939916, 0.9567748597011516, 0.9999481451884872, 0.21277356513472365, 0.7723417730976722, 0.014867881218055998, 0.09363783072430586, 0.4537294195126746, 0.45262957396524495, 0.20954742530537157, 0.7154623653178735, 0.07498606691651748, 0.007450514416037478, 0.00131936192783997, 0.9912288554336528, 0.5240377555550593, 0.11105493024853637, 0.36490983728388965, 0.9997384536310917, 0.05416551702825974, 0.04477569415554341, 0.9010546880732598, 0.12403481602849559, 0.14920354075575912, 0.7267612303334807, 0.9791593900223311, 0.02077141600811586, 0.5110136544766867, 0.4012223137899168, 0.08776173944124531, 0.9997920763904168, 0.9999149943939049, 0.9998511012900047, 0.9997529347562075, 0.9999851434922812, 0.9999367454179715, 0.16900315666024093, 0.7022100856570617, 0.12879244889009703, 0.997382632676971, 0.0025679264487048687, 0.9987455454928239, 0.001132742295908867, 0.00013326379951869024, 8.786707989488337e-05, 0.9999273692037728, 0.008155440922472789, 0.015595161856368289, 0.9762608991559631, 0.022112839989657497, 0.031311937012619674, 0.9465734697771504, 0.9998529464039034, 0.9642296803161975, 0.03575996674793065, 8.596145852867946e-05, 0.99959814085105, 0.7569788871940711, 0.10646157294543485, 0.13656194814669337, 0.9597003106414544, 0.020246704650781284, 0.020051398818137094, 0.9919248109699255, 0.007186621021344984, 0.0008555501215886885, 0.9997564476001478, 0.19243581682235056, 0.7379656677423414, 0.06959985118187774, 0.8904884202617444, 0.04955964786240758, 0.059961055438468434, 0.34161890901452513, 0.5201149750010298, 0.13826971394702472, 5.0023445711063975e-05, 0.9999686797641688, 0.908665845215028, 0.017411197605012987, 0.07392170900765418, 0.5182406124606062, 0.21273484474835885, 0.26902783293237553, 0.9997025487821863, 0.9974791011908057, 0.0018281403916440883, 0.0006855526468665332, 0.011233361950838298, 0.06732996319283704, 0.9214420443855814, 0.9259308933765374, 0.06882166477887763, 0.0052693018971843725, 0.9997954967693061, 0.9914909664353108, 0.004570162828386375, 0.003984244517054788, 0.8300176352996936, 0.03840720819241534, 0.1315798495876494, 0.9995102879043322, 0.7407749454134037, 0.1346157704257438, 0.1246110938321689, 0.9945351541104298, 0.005256385826034255, 0.00013477912374446806, 0.9998535973440903, 0.9998185808253388, 0.021130814179225476, 0.07586454340348706, 0.9030006047683052, 0.828024449249459, 0.10553692998175587, 0.06643692423696158, 0.6809532422729393, 0.12273997007336586, 0.19630785438835527, 0.192986087946964, 0.5569614996121208, 0.2500478499413097, 0.004763712218928975, 0.00016326063908202117, 0.995073595204919, 0.09534103744632572, 0.11067196647250174, 0.7939889309098032, 0.0066778652292362375, 0.019046024069300536, 0.9742757407750615, 0.12928079961574818, 0.39464453307360237, 0.4760688972151524, 0.31048873650516595, 0.17919560994963393, 0.5103145116207467, 0.18433184490791193, 0.6651544773459706, 0.15051194199680168, 0.9998036751980488, 0.6255979594068084, 0.18304532886347358, 0.1913511831717283, 0.9912560180340274, 0.00866626826757476, 0.6785689924326047, 0.1079827074354011, 0.2134469566501776, 0.23749671893547847, 0.15368938108254998, 0.6088138809309813, 0.05465245459471856, 0.12979011061045567, 0.8155563378422236, 0.19086094402927828, 0.2297342838728024, 0.5794035530665145, 0.9999503907310319, 0.03242632043897318, 0.04902771874804664, 0.9185460000871338, 0.9677462849132225, 0.011837428130167776, 0.020386681779733393, 0.05193114675106698, 0.6176457228531027, 0.3304218248550898, 0.15943580526080742, 0.1647157215216774, 0.6758491103701434, 0.9998857533679641, 0.9997378212334408, 0.999502267741423, 0.9974149822441059, 0.002526537124170864, 5.1561982125935994e-05, 0.999917936455041, 0.9998681275607146, 0.06096262777567357, 0.0494758200628166, 0.8895590841396441, 0.9988426329454853, 0.0010651481023145671, 0.0002662870255786418, 0.6866079566397139, 0.1688448673212578, 0.1445430498619347, 0.9972417928355537, 0.002775770438399203, 0.9513347487132756, 0.008439494558790148, 0.04023310768112889, 0.2221499039258152, 0.6085065741014734, 0.16934377922213784, 0.14424372314369688, 0.8557665353416638, 0.19616493812990432, 0.1389660055304351, 0.6648673772102498, 0.9995288396743531, 0.00010041019455581803, 0.9998847173868359, 0.999925905870542, 0.99985666529236, 0.7035323703484248, 0.12152571704175454, 0.1749388166277712, 0.8662584602776466, 0.1077542647005324, 0.0259718845845299, 0.9353931091742655, 0.030103666393987576, 0.034517054589305214, 0.9997485252802873, 0.5823568190717663, 0.1429955839742751, 0.27464558178461057, 0.04179361030522764, 0.1082762071673433, 0.8499263237066916, 0.012159211748398343, 0.010688339359479188, 0.9771495570386248, 0.010244791881351398, 0.019788786964747163, 0.969966567794591, 0.1830805979616175, 0.15268841305156605, 0.66423307550496, 0.9265995323227398, 0.04166784060445025, 0.031719175365225866, 0.9997855320092033, 0.20037311419724588, 0.7155796256434225, 0.08404409183043152, 0.9996530651577484, 0.4351967020110626, 0.08914276894053456, 0.475663928447244, 0.9998282668888099, 0.912545853842738, 0.04000398837023754, 0.047441552995028995, 0.999935193133028, 0.0521654223557421, 0.004840090734037927, 0.9430023373506581, 0.5293820828071294, 0.15043732853529806, 0.3201805836820293, 0.32116589121873307, 0.37968187161438993, 0.2991508737159872, 6.751323649656288e-05, 0.9999385457505928, 0.0003324986000055596, 0.9996570409167149, 0.9999410948493648, 0.0002022855614674953, 0.007130566041729209, 0.9926152501209995, 0.9998814599612813, 0.9998780233145057, 0.7492825969219343, 0.10035227326561848, 0.15036330139698337, 0.0021640388655793943, 0.002513077392285748, 0.9953182627558388, 0.9999605636026196, 0.5967140489829139, 0.2855028844856989, 0.11778317102015085, 0.4774343862117783, 0.4286553234040821, 0.0939159866223559, 0.9999643812136725, 0.09925294164256088, 0.05554484911283994, 0.845201661690021, 0.8103544727442132, 0.0822672434770874, 0.10739349417418882, 0.13979720810611138, 0.021902151783982048, 0.8382990958077592, 0.9986364889636541, 0.0012401570803646745, 0.35577553018693214, 0.6440958053663043, 0.00016086308825332275, 0.4186260262347787, 0.4174258676218674, 0.16394778198158058, 0.003626392752960467, 0.0005725883294148106, 0.9958265362405914, 7.606354356058366e-05, 0.9999313436474329, 0.07529433408067505, 0.08594540580449507, 0.8387622754446746, 0.00011826794970112995, 0.9998372467733526, 0.9824553842042971, 0.017426691915143, 0.00010250995244201765, 0.4822988525691088, 0.37180351754961166, 0.14589706857931395, 1.1369115382437365e-05, 1.1369115382437365e-05, 0.9999819125776609, 0.11495495231948878, 0.1759189962770194, 0.7091275211006577, 0.9990651773411635, 0.00022380492323950796, 0.0006714147697185239, 0.8871354888435776, 0.035557396036097, 0.07729868703499349, 0.09769770156510316, 0.11761885023333687, 0.7846821804069316, 0.33129150247230643, 0.48068384580200085, 0.18802626620208626, 0.9998989993179422, 0.8767905341892683, 0.10767406442509382, 0.015554912720860764, 0.02023657010046766, 0.9797695176536947, 0.15686719615433162, 0.10368787934835298, 0.7394433457908134, 0.9999553233409457, 0.9999070649481113, 0.09429642675836906, 0.08268330659408324, 0.8230208632497136, 0.08057497388667759, 0.09543261522465481, 0.8239934045568265, 0.8517880391349685, 0.04227526986784068, 0.10593723080147228, 0.03413663362909289, 0.049337692363773694, 0.9165344237086958, 0.52676827689655, 0.3152326497538232, 0.15799951306474302, 0.15536026162927766, 0.36540433535268835, 0.47923519390173697, 0.9990520977882558, 0.0006802442790206009, 0.5691969340362414, 0.2845257245056673, 0.14627857958804338, 0.9649725389705776, 0.0009778310168420505, 0.03407741093694546, 0.6579612093387232, 0.1512979654682192, 0.19074375174439942, 0.9349992816692687, 0.05614701192435409, 0.008852724891481966, 0.008465483708953288, 0.0048672515442369, 0.9866705993454228, 0.999956701300819, 0.15845779520184283, 0.1928024485020044, 0.6487393725816581, 0.004213143625075656, 0.00905377672622641, 0.986742141353712, 0.9999226689898024, 0.9998459362356924, 0.00040512396119760633, 0.3692151769007901, 0.14612120767751524, 0.4846645469687043, 0.7112062473107296, 0.18600390499219577, 0.10279163170621344, 0.9863761418824737, 0.005642357103927295, 0.007945360003489456, 0.9997623911079776, 0.02577792358437854, 0.00797255368589027, 0.9662545244592201, 0.9995980894204952, 0.013016697074545723, 0.04841297859304725, 0.9385683616364272, 0.9954262393557594, 0.004487359522571784, 5.904420424436558e-05, 0.999891449588749, 0.9998075483722747, 0.9998379921461148, 0.9987703650509491, 0.0010677468089062957, 0.0441433949340251, 0.06541401837644695, 0.8904359401233459, 0.9996100863675219, 0.00040984423385302253, 0.9995414026293328, 0.000296952288362844, 0.9997629616940622, 0.9999629402087447, 0.026299085145408952, 8.067204032334035e-05, 0.9736308546623946, 0.23987626753641964, 0.23780982937285078, 0.5223115841670899, 0.9999705186784242, 4.4827655833524196e-05, 0.6387530202613284, 0.19487584777813843, 0.16637249809197271, 0.9999400281586753, 0.21120316616229123, 0.206825001435663, 0.5819728561280959, 0.9998512143827091, 0.8289531432570373, 0.16212482599248293, 0.008922210204069829, 0.99966931369701, 0.8068684972371559, 0.09377882484114324, 0.09934938831967949, 0.8305736386697602, 0.10282152607972757, 0.06659457908472552, 0.53462160327349, 0.15133833870986257, 0.3140397205413325, 0.9997748934755448, 0.17751505157277905, 0.6067570330616988, 0.21573185771986286, 0.9998239540958759, 0.9998537150166117, 0.4331767821828151, 0.3598377224755699, 0.20698699728432376, 4.7147390228497005e-05, 0.999948999356193, 0.49071512042618126, 0.2372033902405073, 0.27208148201209725, 0.9997771189699245, 0.517495809644377, 0.11477769849095291, 0.3677257520825202, 0.999352721832108, 0.6368409699237056, 0.16251609509997852, 0.20063958052851036, 0.9997470236561401, 0.7967341103505482, 0.14459214148184432, 0.0586738561611687, 0.6270483676471348, 0.139324270495755, 0.23362758079164034, 0.05367708126569897, 0.43642248798752564, 0.5098979296816798, 0.9886935353647621, 0.011178064614769287, 0.0001255962316266212, 0.9609838114341863, 0.012927435703002414, 0.026076992294372568, 0.5516877912770448, 0.17421021151230404, 0.2740992088021603, 0.008330451350947314, 0.01118775592059591, 0.9805383921054652, 0.7381954386320101, 0.05032989003364403, 0.21147092344013674, 0.99986203221853, 0.46301969720711716, 0.22628338438905168, 0.31069828681970335, 0.9996357145133054, 0.9997458635809128], \"Term\": [\"accountsbest\", \"accountsbest\", \"actress\", \"actress\", \"advertisingat\", \"advertisingclose\", \"advertisingclose\", \"advertisingclose\", \"agenciesb\", \"ago\", \"ago\", \"ago\", \"agoyahoo\", \"ai\", \"ai\", \"ai\", \"album\", \"album\", \"allentown\", \"also\", \"also\", \"also\", \"analysis\", \"analysis\", \"analysis\", \"analytic\", \"analytic\", \"analytic\", \"analyticselectronic\", \"anime\", \"announcementsreal\", \"appget\", \"appget\", \"appget\", \"apple\", \"apple\", \"apple\", \"application\", \"application\", \"application\", \"applicationsclose\", \"applicationsclose\", \"applicationsclose\", \"applicationspublic\", \"applicationspublic\", \"art\", \"art\", \"art\", \"artificial\", \"artificial\", \"artificial\", \"artist\", \"artist\", \"artist\", \"ask\", \"ask\", \"ask\", \"autor\", \"bikini\", \"bing\", \"bing\", \"bing\", \"boyfriend\", \"boyfriend\", \"brandvoice\", \"brandvoice\", \"britney\", \"bureauinvestigate\", \"bureauinvestigate\", \"bureauspartnershipsmedia\", \"business\", \"business\", \"business\", \"busty\", \"cagr\", \"cagr\", \"camp\", \"camp\", \"camp\", \"casinosbest\", \"catheter\", \"character\", \"character\", \"character\", \"chatbot\", \"chatbot\", \"chatbot\", \"chatgpt\", \"chatgpt\", \"chatgpt\", \"cheat\", \"cheat\", \"chic\", \"cision\", \"cision\", \"come\", \"come\", \"come\", \"commerceelectronic\", \"company\", \"company\", \"company\", \"competitive\", \"competitive\", \"competitive\", \"componentselectronic\", \"consent\", \"consent\", \"consent\", \"consumer\", \"consumer\", \"consumer\", \"cookie\", \"cookie\", \"cookie\", \"courtesy\", \"courtesy\", \"courtesy\", \"create\", \"create\", \"create\", \"culturepeople\", \"customer\", \"customer\", \"customer\", \"datum\", \"datum\", \"datum\", \"daughter\", \"daughter\", \"day\", \"day\", \"day\", \"ddn\", \"demoeditorial\", \"descriptionat\", \"descriptionterm\", \"digi\", \"digitaljournalistic\", \"dollar\", \"dollar\", \"dollar\", \"drama\", \"drama\", \"dress\", \"dress\", \"dress\", \"effectdismiss\", \"effectdismiss\", \"endorse\", \"endorse\", \"endorse\", \"enterprise\", \"enterprise\", \"enterprise\", \"equipmentmedical\", \"essay\", \"essay\", \"essay\", \"etfsb\", \"even\", \"even\", \"even\", \"fan\", \"fan\", \"fan\", \"fantasy\", \"fantasy\", \"fantasy\", \"fatbrain\", \"federal\", \"federal\", \"federal\", \"feel\", \"feel\", \"feel\", \"file\", \"file\", \"file\", \"filepublicfile\", \"filepublicfile\", \"film\", \"film\", \"film\", \"first\", \"first\", \"first\", \"flaunt\", \"flyer\", \"flyer\", \"flyer\", \"forecast\", \"forecast\", \"forecast\", \"friend\", \"friend\", \"friend\", \"furnishingshome\", \"galaxy\", \"galaxy\", \"galaxy\", \"game\", \"game\", \"game\", \"geeky\", \"get\", \"get\", \"get\", \"girlfriend\", \"girlfriend\", \"girlfriend\", \"giroux\", \"glamorous\", \"global\", \"global\", \"global\", \"go\", \"go\", \"go\", \"good\", \"good\", \"good\", \"government\", \"government\", \"government\", \"gray\", \"gray\", \"gray\", \"group\", \"group\", \"group\", \"growth\", \"growth\", \"growth\", \"health\", \"health\", \"health\", \"help\", \"help\", \"help\", \"hour\", \"hour\", \"hour\", \"housewife\", \"human\", \"human\", \"human\", \"husband\", \"husband\", \"image\", \"image\", \"image\", \"include\", \"include\", \"include\", \"industry\", \"industry\", \"industry\", \"information\", \"information\", \"information\", \"inquiriesrequest\", \"insight\", \"insight\", \"insight\", \"instagram\", \"instagram\", \"instagram\", \"insurance\", \"insurance\", \"insurance\", \"intelligence\", \"intelligence\", \"intelligence\", \"interestpeople\", \"intermodal\", \"ipad\", \"iphone\", \"iphone\", \"iphone\", \"irall\", \"jenner\", \"key\", \"key\", \"key\", \"kiss\", \"kiss\", \"kiss\", \"know\", \"know\", \"know\", \"lamda\", \"lamda\", \"laptop\", \"laptop\", \"laptop\", \"law\", \"law\", \"law\", \"lawmaker\", \"lawmaker\", \"learn\", \"learn\", \"learn\", \"leggy\", \"lifestylegray\", \"lifestylegray\", \"lifestyleinvestigate\", \"lisk\", \"look\", \"look\", \"look\", \"lot\", \"lot\", \"lot\", \"love\", \"love\", \"love\", \"mailonline\", \"make\", \"make\", \"make\", \"management\", \"management\", \"management\", \"manufacturer\", \"manufacturer\", \"manufacturer\", \"market\", \"market\", \"market\", \"medium\", \"medium\", \"medium\", \"meta\", \"meta\", \"meta\", \"metalworke\", \"min\", \"min\", \"min\", \"mlaas\", \"model\", \"model\", \"model\", \"moneyauto\", \"movie\", \"movie\", \"movie\", \"navigationsearchplease\", \"necessarily\", \"necessarily\", \"necessarily\", \"new\", \"new\", \"new\", \"news\", \"news\", \"news\", \"newscastspress\", \"newscastspress\", \"newsfeed\", \"newsfeed\", \"newsplugin\", \"newswire\", \"newswire\", \"newswire\", \"newswirecision\", \"nexstar\", \"open\", \"open\", \"open\", \"oracle\", \"oracle\", \"oracle\", \"overviewview\", \"people\", \"people\", \"people\", \"personal\", \"personal\", \"personal\", \"picturemagazinesmusicpublishe\", \"platform\", \"platform\", \"platform\", \"play\", \"play\", \"play\", \"player\", \"player\", \"player\", \"playstation\", \"playstation\", \"police\", \"police\", \"police\", \"policy\", \"policy\", \"policy\", \"policyeeo\", \"policyeeo\", \"policyeeo\", \"predictionshow\", \"predictionshow\", \"press\", \"press\", \"press\", \"presswire\", \"presswire\", \"pretty\", \"pretty\", \"pretty\", \"privacy\", \"privacy\", \"privacy\", \"prnewswire\", \"prnewswire\", \"prnewswire\", \"product\", \"product\", \"product\", \"promo\", \"promo\", \"promo\", \"prompt\", \"prompt\", \"prompt\", \"provide\", \"provide\", \"provide\", \"public\", \"public\", \"public\", \"racy\", \"really\", \"really\", \"really\", \"redistribute\", \"redistribute\", \"release\", \"release\", \"release\", \"releasesign\", \"releasesonline\", \"report\", \"report\", \"report\", \"research\", \"research\", \"research\", \"reveal\", \"reveal\", \"reveal\", \"revenue\", \"revenue\", \"revenue\", \"right\", \"right\", \"right\", \"risk\", \"risk\", \"risk\", \"romance\", \"romance\", \"say\", \"say\", \"say\", \"screener\", \"screener\", \"screener\", \"see\", \"see\", \"see\", \"seem\", \"seem\", \"seem\", \"segment\", \"segment\", \"segment\", \"segmentation\", \"service\", \"service\", \"service\", \"serviceprivacy\", \"serviceprivacy\", \"serviceprivacy\", \"servicesradio\", \"sexy\", \"sexy\", \"share\", \"share\", \"share\", \"show\", \"show\", \"show\", \"singer\", \"singer\", \"singer\", \"sitesb\", \"size\", \"size\", \"size\", \"skirt\", \"solution\", \"solution\", \"solution\", \"song\", \"song\", \"song\", \"starfille\", \"statementadvertisinga\", \"statementadvertisingdigital\", \"stocksbest\", \"stocksbest\", \"strategy\", \"strategy\", \"strategy\", \"stroll\", \"stroll\", \"stylish\", \"stylish\", \"susterencircle\", \"swot\", \"symbol\", \"symbol\", \"symbol\", \"system\", \"system\", \"system\", \"tab\", \"tab\", \"take\", \"take\", \"take\", \"techconsumer\", \"technology\", \"technology\", \"technology\", \"technologyall\", \"tell\", \"tell\", \"tell\", \"terarecon\", \"thing\", \"thing\", \"thing\", \"think\", \"think\", \"think\", \"time\", \"time\", \"time\", \"toc\", \"trade\", \"trade\", \"trade\", \"transportationbusiness\", \"tvpowernationlatest\", \"update\", \"update\", \"update\", \"uplog\", \"uplog\", \"use\", \"use\", \"use\", \"usecoversfcc\", \"user\", \"user\", \"user\", \"vanderpump\", \"video\", \"video\", \"video\", \"videoscircle\", \"want\", \"want\", \"want\", \"way\", \"way\", \"way\", \"weather\", \"weather\", \"weather\", \"wedding\", \"wedding\", \"wedding\", \"window\", \"window\", \"window\", \"work\", \"work\", \"work\", \"workflow\", \"workflow\", \"workflow\", \"write\", \"write\", \"write\", \"wunc\", \"year\", \"year\", \"year\", \"zdnet\", \"zu\"]}, \"R\": 30, \"lambda.step\": 0.01, \"plot.opts\": {\"xlab\": \"PC1\", \"ylab\": \"PC2\"}, \"topic.order\": [1, 2, 3]};\n",
       "\n",
       "function LDAvis_load_lib(url, callback){\n",
       "  var s = document.createElement('script');\n",
       "  s.src = url;\n",
       "  s.async = true;\n",
       "  s.onreadystatechange = s.onload = callback;\n",
       "  s.onerror = function(){console.warn(\"failed to load library \" + url);};\n",
       "  document.getElementsByTagName(\"head\")[0].appendChild(s);\n",
       "}\n",
       "\n",
       "if(typeof(LDAvis) !== \"undefined\"){\n",
       "   // already loaded: just create the visualization\n",
       "   !function(LDAvis){\n",
       "       new LDAvis(\"#\" + \"ldavis_el2843622158250105767921361886\", ldavis_el2843622158250105767921361886_data);\n",
       "   }(LDAvis);\n",
       "}else if(typeof define === \"function\" && define.amd){\n",
       "   // require.js is available: use it to load d3/LDAvis\n",
       "   require.config({paths: {d3: \"https://d3js.org/d3.v5\"}});\n",
       "   require([\"d3\"], function(d3){\n",
       "      window.d3 = d3;\n",
       "      LDAvis_load_lib(\"https://cdn.jsdelivr.net/gh/bmabey/pyLDAvis@3.4.0/pyLDAvis/js/ldavis.v3.0.0.js\", function(){\n",
       "        new LDAvis(\"#\" + \"ldavis_el2843622158250105767921361886\", ldavis_el2843622158250105767921361886_data);\n",
       "      });\n",
       "    });\n",
       "}else{\n",
       "    // require.js not available: dynamically load d3 & LDAvis\n",
       "    LDAvis_load_lib(\"https://d3js.org/d3.v5.js\", function(){\n",
       "         LDAvis_load_lib(\"https://cdn.jsdelivr.net/gh/bmabey/pyLDAvis@3.4.0/pyLDAvis/js/ldavis.v3.0.0.js\", function(){\n",
       "                 new LDAvis(\"#\" + \"ldavis_el2843622158250105767921361886\", ldavis_el2843622158250105767921361886_data);\n",
       "            })\n",
       "         });\n",
       "}\n",
       "</script>"
      ],
      "text/plain": [
       "<IPython.core.display.HTML object>"
      ]
     },
     "execution_count": 6,
     "metadata": {},
     "output_type": "execute_result"
    }
   ],
   "source": [
    "%%time\n",
    "\n",
    "lda_display_tw = gensimvis.prepare(tw_lda_model, nw_doc_term_matrix, nw_dictionary, sort_topics=False, mds='mmds')\n",
    "pyLDAvis.display(lda_display_tw)"
   ]
  }
 ],
 "metadata": {
  "kernelspec": {
   "display_name": "Python 3 (ipykernel)",
   "language": "python",
   "name": "python3"
  },
  "language_info": {
   "codemirror_mode": {
    "name": "ipython",
    "version": 3
   },
   "file_extension": ".py",
   "mimetype": "text/x-python",
   "name": "python",
   "nbconvert_exporter": "python",
   "pygments_lexer": "ipython3",
   "version": "3.9.12"
  }
 },
 "nbformat": 4,
 "nbformat_minor": 5
}
